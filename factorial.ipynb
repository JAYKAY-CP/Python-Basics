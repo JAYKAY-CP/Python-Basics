{
 "cells": [
  {
   "cell_type": "code",
   "execution_count": 6,
   "metadata": {},
   "outputs": [
    {
     "name": "stdout",
     "output_type": "stream",
     "text": [
      "5\n",
      "The factorial of 5 is 120.\n"
     ]
    }
   ],
   "source": [
    "#Factorial of a given number\n",
    "\n",
    "x = int(input())\n",
    "\n",
    "fact = 1\n",
    "for i in range(1,x+1):\n",
    "    fact *= i\n",
    "    \n",
    "print(\"The factorial of {} is {}.\".format(x,fact))"
   ]
  }
 ],
 "metadata": {
  "kernelspec": {
   "display_name": "Python 3",
   "language": "python",
   "name": "python3"
  },
  "language_info": {
   "codemirror_mode": {
    "name": "ipython",
    "version": 3
   },
   "file_extension": ".py",
   "mimetype": "text/x-python",
   "name": "python",
   "nbconvert_exporter": "python",
   "pygments_lexer": "ipython3",
   "version": "3.8.5"
  }
 },
 "nbformat": 4,
 "nbformat_minor": 4
}
